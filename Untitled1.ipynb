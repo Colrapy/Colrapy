{
  "nbformat": 4,
  "nbformat_minor": 0,
  "metadata": {
    "colab": {
      "name": "Untitled1.ipynb",
      "provenance": [],
      "authorship_tag": "ABX9TyPDaEMbc5uWkTPlVGhoFubN",
      "include_colab_link": true
    },
    "kernelspec": {
      "name": "python3",
      "display_name": "Python 3"
    },
    "language_info": {
      "name": "python"
    }
  },
  "cells": [
    {
      "cell_type": "markdown",
      "metadata": {
        "id": "view-in-github",
        "colab_type": "text"
      },
      "source": [
        "<a href=\"https://colab.research.google.com/github/201810798lhs/Colrapy/blob/dependabot%2Fnpm_and_yarn%2Ffrontend%2Fminimist-1.2.6/Untitled1.ipynb\" target=\"_parent\"><img src=\"https://colab.research.google.com/assets/colab-badge.svg\" alt=\"Open In Colab\"/></a>"
      ]
    },
    {
      "cell_type": "code",
      "execution_count": 1,
      "metadata": {
        "colab": {
          "base_uri": "https://localhost:8080/"
        },
        "id": "lnoe5qBcRrIh",
        "outputId": "567ade7b-4496-4782-87ef-4e378d568d39"
      },
      "outputs": [
        {
          "output_type": "stream",
          "name": "stdout",
          "text": [
            "Collecting konlpy\n",
            "  Downloading konlpy-0.6.0-py2.py3-none-any.whl (19.4 MB)\n",
            "\u001b[K     |████████████████████████████████| 19.4 MB 1.3 MB/s \n",
            "\u001b[?25hRequirement already satisfied: lxml>=4.1.0 in /usr/local/lib/python3.7/dist-packages (from konlpy) (4.2.6)\n",
            "Requirement already satisfied: numpy>=1.6 in /usr/local/lib/python3.7/dist-packages (from konlpy) (1.21.6)\n",
            "Collecting JPype1>=0.7.0\n",
            "  Downloading JPype1-1.4.0-cp37-cp37m-manylinux_2_5_x86_64.manylinux1_x86_64.whl (453 kB)\n",
            "\u001b[K     |████████████████████████████████| 453 kB 53.1 MB/s \n",
            "\u001b[?25hRequirement already satisfied: typing-extensions in /usr/local/lib/python3.7/dist-packages (from JPype1>=0.7.0->konlpy) (4.2.0)\n",
            "Installing collected packages: JPype1, konlpy\n",
            "Successfully installed JPype1-1.4.0 konlpy-0.6.0\n"
          ]
        }
      ],
      "source": [
        "!pip install konlpy"
      ]
    },
    {
      "cell_type": "code",
      "source": [
        "!pip install tensorflow"
      ],
      "metadata": {
        "colab": {
          "base_uri": "https://localhost:8080/"
        },
        "id": "wxhPkIIESLxa",
        "outputId": "a6463254-08f1-48fb-a73f-846664ace5e7"
      },
      "execution_count": 2,
      "outputs": [
        {
          "output_type": "stream",
          "name": "stdout",
          "text": [
            "Requirement already satisfied: tensorflow in /usr/local/lib/python3.7/dist-packages (2.8.0+zzzcolab20220506162203)\n",
            "Requirement already satisfied: google-pasta>=0.1.1 in /usr/local/lib/python3.7/dist-packages (from tensorflow) (0.2.0)\n",
            "Collecting tf-estimator-nightly==2.8.0.dev2021122109\n",
            "  Downloading tf_estimator_nightly-2.8.0.dev2021122109-py2.py3-none-any.whl (462 kB)\n",
            "\u001b[K     |████████████████████████████████| 462 kB 7.2 MB/s \n",
            "\u001b[?25hRequirement already satisfied: termcolor>=1.1.0 in /usr/local/lib/python3.7/dist-packages (from tensorflow) (1.1.0)\n",
            "Requirement already satisfied: six>=1.12.0 in /usr/local/lib/python3.7/dist-packages (from tensorflow) (1.15.0)\n",
            "Requirement already satisfied: astunparse>=1.6.0 in /usr/local/lib/python3.7/dist-packages (from tensorflow) (1.6.3)\n",
            "Requirement already satisfied: protobuf>=3.9.2 in /usr/local/lib/python3.7/dist-packages (from tensorflow) (3.17.3)\n",
            "Requirement already satisfied: tensorboard<2.9,>=2.8 in /usr/local/lib/python3.7/dist-packages (from tensorflow) (2.8.0)\n",
            "Requirement already satisfied: flatbuffers>=1.12 in /usr/local/lib/python3.7/dist-packages (from tensorflow) (2.0)\n",
            "Requirement already satisfied: setuptools in /usr/local/lib/python3.7/dist-packages (from tensorflow) (57.4.0)\n",
            "Requirement already satisfied: h5py>=2.9.0 in /usr/local/lib/python3.7/dist-packages (from tensorflow) (3.1.0)\n",
            "Requirement already satisfied: keras<2.9,>=2.8.0rc0 in /usr/local/lib/python3.7/dist-packages (from tensorflow) (2.8.0)\n",
            "Requirement already satisfied: grpcio<2.0,>=1.24.3 in /usr/local/lib/python3.7/dist-packages (from tensorflow) (1.46.1)\n",
            "Requirement already satisfied: gast>=0.2.1 in /usr/local/lib/python3.7/dist-packages (from tensorflow) (0.5.3)\n",
            "Requirement already satisfied: keras-preprocessing>=1.1.1 in /usr/local/lib/python3.7/dist-packages (from tensorflow) (1.1.2)\n",
            "Requirement already satisfied: libclang>=9.0.1 in /usr/local/lib/python3.7/dist-packages (from tensorflow) (14.0.1)\n",
            "Requirement already satisfied: absl-py>=0.4.0 in /usr/local/lib/python3.7/dist-packages (from tensorflow) (1.0.0)\n",
            "Requirement already satisfied: tensorflow-io-gcs-filesystem>=0.23.1 in /usr/local/lib/python3.7/dist-packages (from tensorflow) (0.25.0)\n",
            "Requirement already satisfied: opt-einsum>=2.3.2 in /usr/local/lib/python3.7/dist-packages (from tensorflow) (3.3.0)\n",
            "Requirement already satisfied: typing-extensions>=3.6.6 in /usr/local/lib/python3.7/dist-packages (from tensorflow) (4.2.0)\n",
            "Requirement already satisfied: numpy>=1.20 in /usr/local/lib/python3.7/dist-packages (from tensorflow) (1.21.6)\n",
            "Requirement already satisfied: wrapt>=1.11.0 in /usr/local/lib/python3.7/dist-packages (from tensorflow) (1.14.1)\n",
            "Requirement already satisfied: wheel<1.0,>=0.23.0 in /usr/local/lib/python3.7/dist-packages (from astunparse>=1.6.0->tensorflow) (0.37.1)\n",
            "Requirement already satisfied: cached-property in /usr/local/lib/python3.7/dist-packages (from h5py>=2.9.0->tensorflow) (1.5.2)\n",
            "Requirement already satisfied: werkzeug>=0.11.15 in /usr/local/lib/python3.7/dist-packages (from tensorboard<2.9,>=2.8->tensorflow) (1.0.1)\n",
            "Requirement already satisfied: markdown>=2.6.8 in /usr/local/lib/python3.7/dist-packages (from tensorboard<2.9,>=2.8->tensorflow) (3.3.7)\n",
            "Requirement already satisfied: tensorboard-plugin-wit>=1.6.0 in /usr/local/lib/python3.7/dist-packages (from tensorboard<2.9,>=2.8->tensorflow) (1.8.1)\n",
            "Requirement already satisfied: requests<3,>=2.21.0 in /usr/local/lib/python3.7/dist-packages (from tensorboard<2.9,>=2.8->tensorflow) (2.23.0)\n",
            "Requirement already satisfied: google-auth-oauthlib<0.5,>=0.4.1 in /usr/local/lib/python3.7/dist-packages (from tensorboard<2.9,>=2.8->tensorflow) (0.4.6)\n",
            "Requirement already satisfied: tensorboard-data-server<0.7.0,>=0.6.0 in /usr/local/lib/python3.7/dist-packages (from tensorboard<2.9,>=2.8->tensorflow) (0.6.1)\n",
            "Requirement already satisfied: google-auth<3,>=1.6.3 in /usr/local/lib/python3.7/dist-packages (from tensorboard<2.9,>=2.8->tensorflow) (1.35.0)\n",
            "Requirement already satisfied: pyasn1-modules>=0.2.1 in /usr/local/lib/python3.7/dist-packages (from google-auth<3,>=1.6.3->tensorboard<2.9,>=2.8->tensorflow) (0.2.8)\n",
            "Requirement already satisfied: cachetools<5.0,>=2.0.0 in /usr/local/lib/python3.7/dist-packages (from google-auth<3,>=1.6.3->tensorboard<2.9,>=2.8->tensorflow) (4.2.4)\n",
            "Requirement already satisfied: rsa<5,>=3.1.4 in /usr/local/lib/python3.7/dist-packages (from google-auth<3,>=1.6.3->tensorboard<2.9,>=2.8->tensorflow) (4.8)\n",
            "Requirement already satisfied: requests-oauthlib>=0.7.0 in /usr/local/lib/python3.7/dist-packages (from google-auth-oauthlib<0.5,>=0.4.1->tensorboard<2.9,>=2.8->tensorflow) (1.3.1)\n",
            "Requirement already satisfied: importlib-metadata>=4.4 in /usr/local/lib/python3.7/dist-packages (from markdown>=2.6.8->tensorboard<2.9,>=2.8->tensorflow) (4.11.3)\n",
            "Requirement already satisfied: zipp>=0.5 in /usr/local/lib/python3.7/dist-packages (from importlib-metadata>=4.4->markdown>=2.6.8->tensorboard<2.9,>=2.8->tensorflow) (3.8.0)\n",
            "Requirement already satisfied: pyasn1<0.5.0,>=0.4.6 in /usr/local/lib/python3.7/dist-packages (from pyasn1-modules>=0.2.1->google-auth<3,>=1.6.3->tensorboard<2.9,>=2.8->tensorflow) (0.4.8)\n",
            "Requirement already satisfied: certifi>=2017.4.17 in /usr/local/lib/python3.7/dist-packages (from requests<3,>=2.21.0->tensorboard<2.9,>=2.8->tensorflow) (2021.10.8)\n",
            "Requirement already satisfied: urllib3!=1.25.0,!=1.25.1,<1.26,>=1.21.1 in /usr/local/lib/python3.7/dist-packages (from requests<3,>=2.21.0->tensorboard<2.9,>=2.8->tensorflow) (1.24.3)\n",
            "Requirement already satisfied: idna<3,>=2.5 in /usr/local/lib/python3.7/dist-packages (from requests<3,>=2.21.0->tensorboard<2.9,>=2.8->tensorflow) (2.10)\n",
            "Requirement already satisfied: chardet<4,>=3.0.2 in /usr/local/lib/python3.7/dist-packages (from requests<3,>=2.21.0->tensorboard<2.9,>=2.8->tensorflow) (3.0.4)\n",
            "Requirement already satisfied: oauthlib>=3.0.0 in /usr/local/lib/python3.7/dist-packages (from requests-oauthlib>=0.7.0->google-auth-oauthlib<0.5,>=0.4.1->tensorboard<2.9,>=2.8->tensorflow) (3.2.0)\n",
            "Installing collected packages: tf-estimator-nightly\n",
            "Successfully installed tf-estimator-nightly-2.8.0.dev2021122109\n"
          ]
        }
      ]
    },
    {
      "cell_type": "code",
      "source": [
        "import numpy as np\n",
        "import pandas as pd\n",
        "import re\n",
        "import json\n",
        "from konlpy.tag import Okt\n",
        "from tensorflow.keras.preprocessing.sequence import pad_sequences\n",
        "from tensorflow.keras.preprocessing.text import Tokenizer\n",
        "\n",
        "DATA_PATH = '/content/sample_data/'\n",
        "train_data = pd.read_csv(DATA_PATH+'ratings_train.txt', header = 0, delimiter='\\t', quoting=3)\n",
        "\n",
        "train_data['document'][:5]"
      ],
      "metadata": {
        "colab": {
          "base_uri": "https://localhost:8080/"
        },
        "id": "IQoCK8_9SEjm",
        "outputId": "d4da0ed0-c9d6-4299-f3f4-ef5048f1dc76"
      },
      "execution_count": 9,
      "outputs": [
        {
          "output_type": "execute_result",
          "data": {
            "text/plain": [
              "0                                  아 더빙.. 진짜 짜증나네요 목소리\n",
              "1                    흠...포스터보고 초딩영화줄....오버연기조차 가볍지 않구나\n",
              "2                                    너무재밓었다그래서보는것을추천한다\n",
              "3                        교도소 이야기구먼 ..솔직히 재미는 없다..평점 조정\n",
              "4    사이몬페그의 익살스런 연기가 돋보였던 영화!스파이더맨에서 늙어보이기만 했던 커스틴 ...\n",
              "Name: document, dtype: object"
            ]
          },
          "metadata": {},
          "execution_count": 9
        }
      ]
    },
    {
      "cell_type": "code",
      "source": [
        "#전처리 함수 만들기\n",
        "def preprocessing(review, okt, remove_stopwords = False, stop_words =[]):\n",
        "  #함수인자설명\n",
        "  # review: 전처리할 텍스트\n",
        "  # okt: okt객체를 반복적으로 생성하지 않고 미리 생성 후 인자로 받음\n",
        "  # remove_stopword: 불용어를 제거할지 여부 선택. 기본값 False\n",
        "  # stop_words: 불용어 사전은 사용자가 직접 입력, 기본값 빈 리스트\n",
        "\n",
        "  # 1. 한글 및 공백 제외한 문자 모두 제거\n",
        "  review_text = re.sub('[^가-힣ㄱ-ㅎㅏ-ㅣ\\\\s]','',review)\n",
        "  \n",
        "  #2. okt 객체를 활용하여 형태소 단어로 나눔\n",
        "  word_review = okt.morphs(review_text,stem=True)\n",
        "\n",
        "  if remove_stopwords:\n",
        "    #3. 불용어 제거(선택)\n",
        "    word_review = [token for token in word_review if not token in stop_words]\n",
        "  return word_review"
      ],
      "metadata": {
        "id": "HJK1_uRZSHt5"
      },
      "execution_count": 10,
      "outputs": []
    },
    {
      "cell_type": "code",
      "source": [
        "# 전체 텍스트 전처리\n",
        "stop_words = ['은','는','이','가','하','아','것','들','의','있','되','수','보','주','등','한']\n",
        "okt = Okt()\n",
        "clean_train_review = []\n",
        "\n",
        "for review in train_data['document']:\n",
        "  # 리뷰가 문자열인 경우만 전처리 진행\n",
        "  if type(review) == str:\n",
        "    clean_train_review.append(preprocessing(review,okt,remove_stopwords=True,stop_words= stop_words))\n",
        "  else:\n",
        "    clean_train_review.append([]) #str이 아닌 행은 빈칸으로 놔두기\n",
        "\n",
        "clean_train_review[:4]"
      ],
      "metadata": {
        "colab": {
          "base_uri": "https://localhost:8080/"
        },
        "id": "-Y6PDJTYldVE",
        "outputId": "9e140c46-18f1-4ecb-9e28-d0f30c8c3b64"
      },
      "execution_count": 11,
      "outputs": [
        {
          "output_type": "execute_result",
          "data": {
            "text/plain": [
              "[['더빙', '진짜', '짜증나다', '목소리'],\n",
              " ['흠', '포스터', '보고', '초딩', '영화', '줄', '오버', '연기', '조차', '가볍다', '않다'],\n",
              " ['너', '무재', '밓었', '다그', '래서', '보다', '추천', '다'],\n",
              " ['교도소', '이야기', '구먼', '솔직하다', '재미', '없다', '평점', '조정']]"
            ]
          },
          "metadata": {},
          "execution_count": 11
        }
      ]
    },
    {
      "cell_type": "code",
      "source": [
        "#테스트 리뷰도 동일하게 전처리\n",
        "test_data = pd.read_csv(DATA_PATH + 'ratings_test.txt', header = 0, delimiter='\\t', quoting=3)\n",
        "\n",
        "clean_test_review = []\n",
        "for review in test_data['document']:\n",
        "  if type(review) == str:\n",
        "    clean_test_review.append(preprocessing(review, okt, remove_stopwords=True, stop_words=stop_words))\n",
        "  else:\n",
        "    clean_test_review.append([])"
      ],
      "metadata": {
        "id": "r_DjH5NqlfJe"
      },
      "execution_count": 12,
      "outputs": []
    },
    {
      "cell_type": "code",
      "source": [
        "# 인덱스 벡터 변환 후 일정 길이 넘어가거나 모자라는 리뷰 패딩처리\n",
        "tokenizer = Tokenizer()\n",
        "tokenizer.fit_on_texts(clean_train_review)\n",
        "train_sequences = tokenizer.texts_to_sequences(clean_train_review)\n",
        "test_sequences = tokenizer.texts_to_sequences(clean_test_review)\n",
        "\n",
        "word_vocab = tokenizer.word_index #단어사전형태\n",
        "MAX_SEQUENCE_LENGTH = 8 #문장 최대 길이\n",
        "\n",
        "#학습 데이터\n",
        "train_inputs = pad_sequences(train_sequences,maxlen=MAX_SEQUENCE_LENGTH,padding='post')\n",
        "\n",
        "#학습 데이터 라벨 벡터화\n",
        "train_labels = np.array(train_data['label'])\n",
        "\n",
        "#평가 데이터 \n",
        "test_inputs = pad_sequences(test_sequences,maxlen=MAX_SEQUENCE_LENGTH,padding='post')\n",
        "#평가 데이터 라벨 벡터화\n",
        "test_labels = np.array(test_data['label'])"
      ],
      "metadata": {
        "id": "uXpzuSfKn6ZJ"
      },
      "execution_count": 13,
      "outputs": []
    },
    {
      "cell_type": "code",
      "source": [
        "DEFAULT_PATH  = '/content/sample_data/'\n",
        "DATA_PATH = 'CLEAN_DATA/'\n",
        "TRAIN_INPUT_DATA = 'nsmc_train_input.npy'\n",
        "TRAIN_LABEL_DATA = 'nsmc_train_label.npy'\n",
        "TEST_INPUT_DATA = 'nsmc_test_input.npy'\n",
        "TEST_LABEL_DATA = 'nsmc_test_label.npy'\n",
        "DATA_CONFIGS = 'data_configs.json'\n",
        "\n",
        "data_configs={}\n",
        "data_configs['vocab'] = word_vocab\n",
        "data_configs['vocab_size'] = len(word_vocab) + 1\n",
        "\n",
        "#전처리한 데이터들 파일로저장\n",
        "import os\n",
        "\n",
        "if not os.path.exists(DEFAULT_PATH + DATA_PATH):\n",
        "  os.makedirs(DEFAULT_PATH+DATA_PATH)\n",
        "\n",
        "#전처리 학습데이터 넘파이로 저장\n",
        "np.save(open(DEFAULT_PATH+DATA_PATH+TRAIN_INPUT_DATA,'wb'),train_inputs)\n",
        "np.save(open(DEFAULT_PATH+DATA_PATH+TRAIN_LABEL_DATA,'wb'),train_labels)\n",
        "#전처리 테스트데이터 넘파이로 저장\n",
        "np.save(open(DEFAULT_PATH+DATA_PATH+TEST_INPUT_DATA,'wb'),test_inputs)\n",
        "np.save(open(DEFAULT_PATH+DATA_PATH+TEST_LABEL_DATA,'wb'),test_labels)\n",
        "\n",
        "#데이터 사전 json으로 저장\n",
        "json.dump(data_configs,open(DEFAULT_PATH + DATA_PATH + DATA_CONFIGS,'w'),ensure_ascii=False)"
      ],
      "metadata": {
        "id": "bpgJWLTwovcM"
      },
      "execution_count": 15,
      "outputs": []
    },
    {
      "cell_type": "code",
      "source": [
        "# 학습 데이터 불러오기\n",
        "import tensorflow as tf\n",
        "from tensorflow.keras.preprocessing.sequence import pad_sequences\n",
        "from tensorflow.keras.callbacks import EarlyStopping, ModelCheckpoint\n",
        "from tensorflow.keras import layers\n",
        "import numpy as np\n",
        "import pandas as pd\n",
        "import matplotlib.pyplot as plt\n",
        "import os\n",
        "import json\n",
        "from tqdm import tqdm\n",
        "\n",
        "#전처리 데이터 불러오기\n",
        "DATA_PATH = '/content/sample_data/CLEAN_DATA/'\n",
        "DATA_OUT = '/content/sample_data/DATA_OUT/'\n",
        "INPUT_TRAIN_DATA = 'nsmc_train_input.npy'\n",
        "LABEL_TRAIN_DATA = 'nsmc_train_label.npy'\n",
        "DATA_CONFIGS = 'data_configs.json'\n",
        "\n",
        "train_input = np.load(open(DATA_PATH + INPUT_TRAIN_DATA,'rb'))\n",
        "train_input = pad_sequences(train_input,maxlen=train_input.shape[1])\n",
        "train_label = np.load(open(DATA_PATH + LABEL_TRAIN_DATA,'rb'))\n",
        "prepro_configs = json.load(open(DATA_PATH+DATA_CONFIGS,'r'))"
      ],
      "metadata": {
        "id": "Hwk-pHMWo1gy"
      },
      "execution_count": 16,
      "outputs": []
    },
    {
      "cell_type": "code",
      "source": [
        "model_name= 'cnn_classifier_kr'\n",
        "BATCH_SIZE = 512\n",
        "NUM_EPOCHS = 10\n",
        "VALID_SPLIT = 0.1\n",
        "MAX_LEN = train_input.shape[1]\n",
        "\n",
        "kargs={'model_name': model_name, 'vocab_size':prepro_configs['vocab_size'],'embbeding_size':128, 'num_filters':100,'dropout_rate':0.5, 'hidden_dimension':250,'output_dimension':1}"
      ],
      "metadata": {
        "id": "f4ixrCyYpJho"
      },
      "execution_count": 17,
      "outputs": []
    },
    {
      "cell_type": "code",
      "source": [
        "class CNNClassifier(tf.keras.Model):\n",
        "\n",
        "  def __init__(self, **kargs):\n",
        "    super(CNNClassifier, self).__init__(name=kargs['model_name'])\n",
        "    self.embedding = layers.Embedding(input_dim=kargs['vocab_size'], output_dim=kargs['embbeding_size'])\n",
        "    self.conv_list = [layers.Conv1D(filters=kargs['num_filters'], kernel_size=kernel_size, padding='valid',activation = tf.keras.activations.relu,\n",
        "                                    kernel_constraint = tf.keras.constraints.MaxNorm(max_value=3)) for kernel_size in [3,4,5]]\n",
        "    self.pooling = layers.GlobalMaxPooling1D()\n",
        "    self.dropout = layers.Dropout(kargs['dropout_rate'])\n",
        "    self.fc1 = layers.Dense(units=kargs['hidden_dimension'],\n",
        "                            activation = tf.keras.activations.relu,\n",
        "                            kernel_constraint=tf.keras.constraints.MaxNorm(max_value=3.))\n",
        "    self.fc2 = layers.Dense(units=kargs['output_dimension'],\n",
        "                            activation=tf.keras.activations.sigmoid,\n",
        "                            kernel_constraint= tf.keras.constraints.MaxNorm(max_value=3.))\n",
        "    \n",
        "\n",
        "  def call(self,x):\n",
        "    x = self.embedding(x)\n",
        "    x = self.dropout(x)\n",
        "    x = tf.concat([self.pooling(conv(x)) for conv in self.conv_list], axis = 1)\n",
        "    x = self.fc1(x)\n",
        "    x = self.fc2(x)\n",
        "    return x"
      ],
      "metadata": {
        "id": "5uvDikxkpMFK"
      },
      "execution_count": 18,
      "outputs": []
    },
    {
      "cell_type": "code",
      "source": [
        "model = CNNClassifier(**kargs)\n",
        "model.compile(optimizer=tf.keras.optimizers.Adam(),\n",
        "              loss = tf.keras.losses.BinaryCrossentropy(),\n",
        "              metrics = [tf.keras.metrics.BinaryAccuracy(name='accuracy')])\n",
        "\n",
        "#검증 정확도를 통한 EarlyStopping 기능 및 모델 저장 방식 지정\n",
        "earlystop_callback = EarlyStopping(monitor='val_accuracy', min_delta=0.0001, patience=2)\n",
        "checkpoint_path = DATA_OUT + model_name +'\\weogjts.h5'\n",
        "checkpoint_dir = os.path.dirname(checkpoint_path)\n",
        "\n",
        "if os.path.exists(checkpoint_dir):\n",
        "  print(\"{} -- Folder already exists \\n\".format(checkpoint_dir))\n",
        "else:\n",
        "  os.makedirs(checkpoint_dir, exist_ok=True)\n",
        "  print(\"{} -- Folder create complete \\n\".format(checkpoint_dir))\n",
        "\n",
        "cp_callback = ModelCheckpoint(\n",
        "    checkpoint_path, monitor = 'val_accuracy', verbose=1, save_best_only = True,\n",
        "    save_weights_only=True\n",
        ")\n",
        "\n",
        "history = model.fit(train_input, train_label, batch_size=BATCH_SIZE, epochs = NUM_EPOCHS,\n",
        "                    validation_split=VALID_SPLIT, callbacks=[earlystop_callback, cp_callback])"
      ],
      "metadata": {
        "colab": {
          "base_uri": "https://localhost:8080/"
        },
        "id": "nyockY6qpOFB",
        "outputId": "1c683ea1-e921-44d0-9e6d-e4a14fc3ed90"
      },
      "execution_count": 19,
      "outputs": [
        {
          "output_type": "stream",
          "name": "stdout",
          "text": [
            "/content/sample_data/DATA_OUT -- Folder create complete \n",
            "\n",
            "Epoch 1/10\n",
            "264/264 [==============================] - ETA: 0s - loss: 0.4564 - accuracy: 0.7773\n",
            "Epoch 1: val_accuracy improved from -inf to 0.82153, saving model to /content/sample_data/DATA_OUT/cnn_classifier_kr\\weogjts.h5\n",
            "264/264 [==============================] - 61s 195ms/step - loss: 0.4564 - accuracy: 0.7773 - val_loss: 0.3920 - val_accuracy: 0.8215\n",
            "Epoch 2/10\n",
            "264/264 [==============================] - ETA: 0s - loss: 0.3537 - accuracy: 0.8446\n",
            "Epoch 2: val_accuracy improved from 0.82153 to 0.82780, saving model to /content/sample_data/DATA_OUT/cnn_classifier_kr\\weogjts.h5\n",
            "264/264 [==============================] - 50s 190ms/step - loss: 0.3537 - accuracy: 0.8446 - val_loss: 0.3844 - val_accuracy: 0.8278\n",
            "Epoch 3/10\n",
            "264/264 [==============================] - ETA: 0s - loss: 0.3010 - accuracy: 0.8719\n",
            "Epoch 3: val_accuracy improved from 0.82780 to 0.82893, saving model to /content/sample_data/DATA_OUT/cnn_classifier_kr\\weogjts.h5\n",
            "264/264 [==============================] - 51s 195ms/step - loss: 0.3010 - accuracy: 0.8719 - val_loss: 0.3912 - val_accuracy: 0.8289\n",
            "Epoch 4/10\n",
            "264/264 [==============================] - ETA: 0s - loss: 0.2577 - accuracy: 0.8931\n",
            "Epoch 4: val_accuracy improved from 0.82893 to 0.83127, saving model to /content/sample_data/DATA_OUT/cnn_classifier_kr\\weogjts.h5\n",
            "264/264 [==============================] - 50s 189ms/step - loss: 0.2577 - accuracy: 0.8931 - val_loss: 0.4063 - val_accuracy: 0.8313\n",
            "Epoch 5/10\n",
            "264/264 [==============================] - ETA: 0s - loss: 0.2221 - accuracy: 0.9094\n",
            "Epoch 5: val_accuracy did not improve from 0.83127\n",
            "264/264 [==============================] - 46s 173ms/step - loss: 0.2221 - accuracy: 0.9094 - val_loss: 0.4405 - val_accuracy: 0.8229\n",
            "Epoch 6/10\n",
            "264/264 [==============================] - ETA: 0s - loss: 0.1950 - accuracy: 0.9207\n",
            "Epoch 6: val_accuracy did not improve from 0.83127\n",
            "264/264 [==============================] - 46s 175ms/step - loss: 0.1950 - accuracy: 0.9207 - val_loss: 0.4651 - val_accuracy: 0.8221\n"
          ]
        }
      ]
    },
    {
      "cell_type": "code",
      "source": [
        "INPUT_TEST_DATA = 'nsmc_test_input.npy'\n",
        "LABEL_TEST_DATA = 'nsmc_test_label.npy'\n",
        "SAVE_FILE_NM = 'weights.h5'\n",
        "\n",
        "test_input = np.load(open(DATA_PATH+INPUT_TEST_DATA,'rb'))\n",
        "test_input = pad_sequences(test_input,maxlen=test_input.shape[1])\n",
        "test_label_data = np.load(open(DATA_PATH + LABEL_TEST_DATA, 'rb'))\n",
        "\n",
        "model.load_weights(DATA_OUT + model_name +'\\weogjts.h5')\n",
        "model.evaluate(test_input, test_label_data)"
      ],
      "metadata": {
        "colab": {
          "base_uri": "https://localhost:8080/"
        },
        "id": "VHBPM2IGpP8g",
        "outputId": "0a916b34-3d51-419f-d689-53d02ec4cbaf"
      },
      "execution_count": 28,
      "outputs": [
        {
          "output_type": "stream",
          "name": "stdout",
          "text": [
            "1563/1563 [==============================] - 11s 7ms/step - loss: 0.4112 - accuracy: 0.8269\n"
          ]
        },
        {
          "output_type": "execute_result",
          "data": {
            "text/plain": [
              "[0.4111757278442383, 0.8269400000572205]"
            ]
          },
          "metadata": {},
          "execution_count": 28
        }
      ]
    },
    {
      "cell_type": "code",
      "source": [
        "import numpy as np\n",
        "import pandas as pd\n",
        "import re\n",
        "import json\n",
        "from konlpy.tag import Okt\n",
        "from tensorflow.keras.preprocessing.sequence import pad_sequences\n",
        "from tensorflow.keras.preprocessing.text import Tokenizer\n",
        "okt = Okt()\n",
        "tokenizer  = Tokenizer()\n",
        "\n",
        "DATA_CONFIGS = 'data_configs.json'\n",
        "prepro_configs = json.load(open('/content/sample_data/CLEAN_DATA/'+DATA_CONFIGS,'r'))\n",
        "prepro_configs['vocab'] = word_vocab\n",
        "\n",
        "tokenizer.fit_on_texts(word_vocab)\n",
        "\n",
        "MAX_LENGTH = 8 #문장최대길이\n",
        "\n",
        "sentence = input('감성분석할 문장을 입력해 주세요.: ')\n",
        "sentence = re.sub(r'[^ㄱ-ㅎㅏ-ㅣ가-힣\\\\s ]','', sentence)\n",
        "stopwords = ['은','는','이','가','하','아','것','들','의','있','되','수','보','주','등','한'] # 불용어 추가할 것이 있으면 이곳에 추가\n",
        "sentence = okt.morphs(sentence, stem=True) # 토큰화\n",
        "sentence = [word for word in sentence if not word in stopwords] # 불용어 제거\n",
        "vector  = tokenizer.texts_to_sequences(sentence)\n",
        "pad_new = pad_sequences(vector, maxlen = MAX_LENGTH) # 패딩\n",
        "\n",
        "model.load_weights('/content/sample_data/DATA_OUT/cnn_classifier_kr\\weogjts.h5') #모델 불러오기\n",
        "predictions = model.predict(pad_new)\n",
        "predictions = float(predictions.squeeze(-1)[1])\n",
        "\n",
        "if(predictions > 0.5):\n",
        "  print(\"{:.2f}% 확률로 긍정 리뷰입니다.\\n\".format(predictions * 100))\n",
        "else:\n",
        "  print(\"{:.2f}% 확률로 부정 리뷰입니다.\\n\".format((1 - predictions) * 100))"
      ],
      "metadata": {
        "colab": {
          "base_uri": "https://localhost:8080/"
        },
        "id": "-L36g6iwqeJD",
        "outputId": "e3dbc1a3-9d1d-466c-d89d-447d4edc1df5"
      },
      "execution_count": 35,
      "outputs": [
        {
          "output_type": "stream",
          "name": "stdout",
          "text": [
            "감성분석할 문장을 입력해 주세요.: 회사에서 하루종일 일해서 힘들었다\n",
            "51.72% 확률로 부정 리뷰입니다.\n",
            "\n"
          ]
        }
      ]
    },
    {
      "cell_type": "code",
      "source": [
        ""
      ],
      "metadata": {
        "id": "iXLI3pOjwA7e"
      },
      "execution_count": null,
      "outputs": []
    }
  ]
}